{
 "cells": [
  {
   "cell_type": "markdown",
   "source": [
    "# Soybean Disease Leaf Classification"
   ],
   "metadata": {
    "collapsed": false
   },
   "id": "37dd6e14a13bdda6"
  },
  {
   "cell_type": "code",
   "execution_count": 1,
   "id": "initial_id",
   "metadata": {
    "collapsed": true,
    "ExecuteTime": {
     "end_time": "2023-12-28T21:13:09.102663Z",
     "start_time": "2023-12-28T21:13:09.100241Z"
    }
   },
   "outputs": [
    {
     "name": "stdout",
     "output_type": "stream",
     "text": [
      "Welcome to the Soybean\n"
     ]
    }
   ],
   "source": [
    "print(\"Welcome to the Soybean\")"
   ]
  }
 ],
 "metadata": {
  "kernelspec": {
   "display_name": "Python 3",
   "language": "python",
   "name": "python3"
  },
  "language_info": {
   "codemirror_mode": {
    "name": "ipython",
    "version": 2
   },
   "file_extension": ".py",
   "mimetype": "text/x-python",
   "name": "python",
   "nbconvert_exporter": "python",
   "pygments_lexer": "ipython2",
   "version": "2.7.6"
  }
 },
 "nbformat": 4,
 "nbformat_minor": 5
}
