{
 "cells": [
  {
   "cell_type": "markdown",
   "source": [
    "# Soybean Disease Leaf Classification"
   ],
   "metadata": {
    "collapsed": false
   },
   "id": "37dd6e14a13bdda6"
  },
  {
   "cell_type": "code",
   "execution_count": 1,
   "id": "initial_id",
   "metadata": {
    "collapsed": true,
    "ExecuteTime": {
     "end_time": "2023-12-28T21:13:09.102663Z",
     "start_time": "2023-12-28T21:13:09.100241Z"
    }
   },
   "outputs": [
    {
     "name": "stdout",
     "output_type": "stream",
     "text": [
      "Welcome to the Soybean\n"
     ]
    }
   ],
   "source": [
    "import numpy as np\n",
    "import matplotlib.pyplot as plt\n",
    "import cv2\n",
    "\n",
    "def resize_image(image_to_resize, size, interpolation=cv2.INTER_AREA, output_path=None):\n",
    "    \"\"\"\n",
    "    Resize an image and display the original and resized versions.\n",
    "\n",
    "    Args:\n",
    "        image_to_resize (numpy.ndarray): The input image.\n",
    "        size (int): The target size for resizing.\n",
    "        interpolation (int): Interpolation method for resizing.\n",
    "        output_path (str, optional): Output file path for the resized image.\n",
    "    \"\"\"\n",
    "    resized_image = cv2.resize(image_to_resize, (size, size), interpolation=interpolation)\n",
    "\n",
    "    print(\"Before Resize - Image shape: {}\".format(image_to_resize.shape))\n",
    "    display_image(\"Before Resize\", image_to_resize)\n",
    "\n",
    "    print(\"After Resize - Image shape: {}\".format(resized_image.shape))\n",
    "    display_image(\"After Resize\", resized_image)\n",
    "\n",
    "    if output_path:\n",
    "        cv2.imwrite(output_path, resized_image)\n",
    "\n",
    "def display_image(title, image_to_display):\n",
    "    \"\"\"\n",
    "    Display an image using Matplotlib.\n",
    "\n",
    "    Args:\n",
    "        title (str): The title for the displayed image.\n",
    "        image_to_display (numpy.ndarray): The image to display.\n",
    "    \"\"\"\n",
    "    rgb_image = cv2.cvtColor(image_to_display, cv2.COLOR_BGR2RGB)\n",
    "    plt.figure(figsize=(4, 2))\n",
    "    plt.imshow(rgb_image)\n",
    "    plt.title(title)\n",
    "    plt.show()\n",
    "\n",
    "def calculate_mean_square_error(image1, image2):\n",
    "    \"\"\"\n",
    "    Calculate the mean square error between two images.\n",
    "\n",
    "    Args:\n",
    "        image1 (numpy.ndarray): The first image.\n",
    "        image2 (numpy.ndarray): The second image.\n",
    "\n",
    "    Returns:\n",
    "        float: Mean square error between the two images.\n",
    "    \"\"\"\n",
    "    error = np.sum((image1.astype(\"float\") - image2.astype(\"float\"))**2)\n",
    "    error /= float(image1.shape[0] * image2.shape[1])\n",
    "    return error\n"
   ]
  }
 ],
 "metadata": {
  "kernelspec": {
   "display_name": "Python 3",
   "language": "python",
   "name": "python3"
  },
  "language_info": {
   "codemirror_mode": {
    "name": "ipython",
    "version": 2
   },
   "file_extension": ".py",
   "mimetype": "text/x-python",
   "name": "python",
   "nbconvert_exporter": "python",
   "pygments_lexer": "ipython2",
   "version": "2.7.6"
  }
 },
 "nbformat": 4,
 "nbformat_minor": 5
}
