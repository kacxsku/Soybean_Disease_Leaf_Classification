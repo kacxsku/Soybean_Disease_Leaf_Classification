{
 "cells": [
  {
   "cell_type": "code",
   "execution_count": null,
   "outputs": [],
   "source": [],
   "metadata": {
    "collapsed": false
   },
   "id": "6bb5912588884ada"
  },
  {
   "cell_type": "markdown",
   "source": [
    "## Esktrakcja cech"
   ],
   "metadata": {
    "collapsed": false
   },
   "id": "d77f04b6ff075b7b"
  },
  {
   "cell_type": "code",
   "execution_count": 59,
   "id": "initial_id",
   "metadata": {
    "collapsed": true,
    "ExecuteTime": {
     "end_time": "2024-01-20T10:08:32.331439Z",
     "start_time": "2024-01-20T10:08:32.296183Z"
    }
   },
   "outputs": [],
   "source": [
    "import os.path\n",
    "from pathlib import Path\n",
    "import pandas as pd\n",
    "\n",
    "path = '/Users/kacperskurski/DataspellProjects/Soybean_Disease_Leaf_Classification/augumentation'\n",
    "\n",
    "image_dir = Path(path)\n",
    "\n",
    "filepaths = list(image_dir.glob(r'**/*.JPG')) + list(image_dir.glob(r'**/*.jpg')) + list(image_dir.glob(r'**/*.PNG')) + list(image_dir.glob(r'**/*.png'))\n",
    "\n",
    "labels = list(map(lambda x: os.path.split(os.path.split(x)[0])[1], filepaths))\n",
    "\n",
    "filepaths = pd.Series(filepaths, name='Filepath').astype(str)\n",
    "labels = pd.Series(labels, name='Label')\n",
    "\n",
    "image_df = pd.concat([filepaths, labels], axis=1)"
   ]
  },
  {
   "cell_type": "code",
   "execution_count": 60,
   "outputs": [
    {
     "name": "stdout",
     "output_type": "stream",
     "text": [
      "                                               Filepath            Label\n",
      "0     /Users/kacperskurski/DataspellProjects/Soybean...  southern_blight\n",
      "1     /Users/kacperskurski/DataspellProjects/Soybean...  southern_blight\n",
      "2     /Users/kacperskurski/DataspellProjects/Soybean...  southern_blight\n",
      "3     /Users/kacperskurski/DataspellProjects/Soybean...  southern_blight\n",
      "4     /Users/kacperskurski/DataspellProjects/Soybean...  southern_blight\n",
      "...                                                 ...              ...\n",
      "1763  /Users/kacperskurski/DataspellProjects/Soybean...      crestamento\n",
      "1764  /Users/kacperskurski/DataspellProjects/Soybean...      crestamento\n",
      "1765  /Users/kacperskurski/DataspellProjects/Soybean...      crestamento\n",
      "1766  /Users/kacperskurski/DataspellProjects/Soybean...      crestamento\n",
      "1767  /Users/kacperskurski/DataspellProjects/Soybean...      crestamento\n",
      "\n",
      "[1768 rows x 2 columns]\n"
     ]
    }
   ],
   "source": [
    "print(image_df)"
   ],
   "metadata": {
    "collapsed": false,
    "ExecuteTime": {
     "end_time": "2024-01-20T10:08:36.447060Z",
     "start_time": "2024-01-20T10:08:36.437081Z"
    }
   },
   "id": "20ec28d5927444f7"
  },
  {
   "cell_type": "code",
   "execution_count": 90,
   "outputs": [],
   "source": [
    "import os\n",
    "import cv2\n",
    "from skimage.feature import hog\n",
    "from skimage.feature import local_binary_pattern\n",
    "from skimage.feature import canny\n",
    "from skimage.exposure import rescale_intensity\n",
    "\n",
    "def save_feature_image(image, op_path, method, file_suffix=''):\n",
    "    method_path = os.path.join(op_path, method)\n",
    "    if not os.path.exists(method_path):\n",
    "        os.makedirs(method_path)\n",
    "    save_path = os.path.join(method_path, f\"{file_suffix}\")\n",
    "    if method != 'log' and 'canny':\n",
    "        image_rescaled = (image - image.min()) / (image.max() - image.min()) * 255\n",
    "        image = image_rescaled.astype('uint8')\n",
    "    cv2.imwrite(save_path, image)\n",
    "\n",
    "def lbp_feature(image, op_path, filename):\n",
    "    lbp_image = local_binary_pattern(image, P=8, R=1, method='uniform')\n",
    "    lbp_image = 255 - lbp_image\n",
    "    save_feature_image(lbp_image, op_path, 'lbp', filename)\n",
    "\n",
    "def canny_feature(image, op_path, filename):\n",
    "    canny_img = canny(image, sigma=1.0)\n",
    "    canny_image = (canny_img.astype(np.uint8) * 255).astype(np.uint8)\n",
    "    save_feature_image(canny_image, op_path, 'canny', filename)\n",
    "\n",
    "def hog_feature(image, op_path, filename):\n",
    "    features, hog_image = hog(image, orientations=8, pixels_per_cell=(16, 16), cells_per_block=(1, 1), visualize=True)\n",
    "    hog_image_rescaled = rescale_intensity(hog_image, in_range=(0, 10))\n",
    "    save_feature_image(hog_image_rescaled, op_path, 'hog', filename)\n",
    "\n",
    "def log_feature(image, op_path, filename):\n",
    "    log_image = cv2.Laplacian(image, cv2.CV_16S, ksize=3)\n",
    "    save_feature_image(log_image, op_path, 'log', filename)\n",
    "\n",
    "# def save_histogram_features_as_image(features, op_path, filename):\n",
    "#     # normalized_features = (features - np.min(features)) / (np.max(features) - np.min(features)) * 255\n",
    "# \n",
    "#     # features_image = normalized_features.astype(np.uint8)\n",
    "#     features_image = features.astype(np.uint8)\n",
    "#     method_path = os.path.join(op_path, 'hist')\n",
    "#     if not os.path.exists(method_path):\n",
    "#         os.makedirs(method_path)\n",
    "#     save_path = os.path.join(method_path, f\"hist_{filename}\")\n",
    "#     cv2.imwrite(save_path, features_image)\n",
    "# \n",
    "# def color_histogram(image):\n",
    "#     image_rgb = cv2.cvtColor(image, cv2.COLOR_GRAY2RGB)\n",
    "#     colors = (\"r\", \"g\", \"b\")\n",
    "#     channels = cv2.split(image_rgb)\n",
    "#     features = []\n",
    "#     \n",
    "#     for (channel, color) in zip(channels, colors):\n",
    "#         hist = cv2.calcHist([channel], [0], None, [256], [0, 256])\n",
    "#         features.extend(hist.flatten())\n",
    "# \n",
    "#     return features\n",
    "# \n",
    "# def load_histogram_features_image(image_path):\n",
    "#     features_image = cv2.imread(image_path, cv2.IMREAD_GRAYSCALE)\n",
    "# \n",
    "#     features = features_image.astype(np.float32) / 255.0 * (np.max(features_image) - np.min(features_image)) + np.min(features_image)\n",
    "# \n",
    "#     return features\n",
    "\n",
    "op_path_base = '/Users/kacperskurski/DataspellProjects/Soybean_Disease_Leaf_Classification/feature_extraction/'\n",
    "\n",
    "for row in image_df.itertuples(index=False):\n",
    "    original_file = cv2.imread(row.Filepath)\n",
    "    img = cv2.cvtColor(original_file, cv2.COLOR_BGR2GRAY)\n",
    "    filename = os.path.basename(row.Filepath)\n",
    "    op_path = os.path.join(op_path_base, row.Label)\n",
    "    lbp_feature(img, op_path, filename)\n",
    "    log_feature(img, op_path, filename)\n",
    "    canny_feature(img, op_path, filename)\n",
    "    hog_feature(img, op_path, filename)\n",
    "    # histogram = color_histogram(img)\n",
    "    # save_histogram_features_as_image(histogram, op_path, filename)"
   ],
   "metadata": {
    "collapsed": false,
    "ExecuteTime": {
     "end_time": "2024-01-20T10:30:45.124184Z",
     "start_time": "2024-01-20T10:30:17.572449Z"
    }
   },
   "id": "c7a62b3f670b215b"
  },
  {
   "cell_type": "markdown",
   "source": [],
   "metadata": {
    "collapsed": false
   },
   "id": "4bd47cf4d7cd3351"
  },
  {
   "cell_type": "code",
   "execution_count": 91,
   "outputs": [],
   "source": [
    "import os.path\n",
    "from pathlib import Path\n",
    "import pandas as pd\n",
    "\n",
    "path = '/Users/kacperskurski/DataspellProjects/Soybean_Disease_Leaf_Classification/feature_extraction/'\n",
    "\n",
    "image_dir = Path(path)\n",
    "\n",
    "filepaths = list(image_dir.glob(r'**/*.JPG')) + list(image_dir.glob(r'**/*.jpg')) + list(image_dir.glob(r'**/*.PNG')) + list(image_dir.glob(r'**/*.png'))\n",
    "\n",
    "features = [os.path.split(os.path.dirname(x))[1] for x in filepaths]\n",
    "labels = [os.path.split(os.path.split(os.path.dirname(x))[0])[1] for x in filepaths]\n",
    "\n",
    "filepaths = pd.Series(filepaths, name='Filepath').astype(str)\n",
    "labels = pd.Series(labels, name='Label')\n",
    "features = pd.Series(features, name='Feature')\n",
    "\n",
    "image_df_features = pd.concat([filepaths, labels, features], axis=1)"
   ],
   "metadata": {
    "collapsed": false,
    "ExecuteTime": {
     "end_time": "2024-01-20T10:31:20.849583Z",
     "start_time": "2024-01-20T10:31:20.768026Z"
    }
   },
   "id": "cb0ed1f5a134f585"
  },
  {
   "cell_type": "code",
   "execution_count": 92,
   "outputs": [
    {
     "name": "stdout",
     "output_type": "stream",
     "text": [
      "                                               Filepath            Label  \\\n",
      "0     /Users/kacperskurski/DataspellProjects/Soybean...  southern_blight   \n",
      "1     /Users/kacperskurski/DataspellProjects/Soybean...  southern_blight   \n",
      "2     /Users/kacperskurski/DataspellProjects/Soybean...  southern_blight   \n",
      "3     /Users/kacperskurski/DataspellProjects/Soybean...  southern_blight   \n",
      "4     /Users/kacperskurski/DataspellProjects/Soybean...  southern_blight   \n",
      "...                                                 ...              ...   \n",
      "7067  /Users/kacperskurski/DataspellProjects/Soybean...      crestamento   \n",
      "7068  /Users/kacperskurski/DataspellProjects/Soybean...      crestamento   \n",
      "7069  /Users/kacperskurski/DataspellProjects/Soybean...      crestamento   \n",
      "7070  /Users/kacperskurski/DataspellProjects/Soybean...      crestamento   \n",
      "7071  /Users/kacperskurski/DataspellProjects/Soybean...      crestamento   \n",
      "\n",
      "     Feature  \n",
      "0        lbp  \n",
      "1        lbp  \n",
      "2        lbp  \n",
      "3        lbp  \n",
      "4        lbp  \n",
      "...      ...  \n",
      "7067   canny  \n",
      "7068   canny  \n",
      "7069   canny  \n",
      "7070   canny  \n",
      "7071   canny  \n",
      "\n",
      "[7072 rows x 3 columns]\n"
     ]
    }
   ],
   "source": [
    "print(image_df_features)"
   ],
   "metadata": {
    "collapsed": false,
    "ExecuteTime": {
     "end_time": "2024-01-20T10:31:26.879366Z",
     "start_time": "2024-01-20T10:31:26.868372Z"
    }
   },
   "id": "5ed44b5ba53aa96d"
  },
  {
   "cell_type": "markdown",
   "source": [
    "## Trening modelu"
   ],
   "metadata": {
    "collapsed": false
   },
   "id": "b908c02362aa5d10"
  },
  {
   "cell_type": "code",
   "execution_count": 94,
   "outputs": [],
   "source": [
    "import numpy as np\n",
    "X = []\n",
    "\n",
    "for index, row in image_df_features.iterrows():\n",
    "    image_path = row['Filepath']\n",
    "    labels = row['Label']\n",
    "    features = row['Feature']\n",
    "    if cv2.imread(image_path) is not None:\n",
    "        if features != 'histogram':\n",
    "            X.append(cv2.cvtColor(cv2.imread(image_path), cv2.COLOR_BGR2GRAY).flatten())\n",
    "        # else:\n",
    "        #     hist = load_histogram_features_image(image_path)\n",
    "        #     print(hist)\n",
    "        #     X.append(hist)\n",
    "    \n",
    "X = np.array(X)"
   ],
   "metadata": {
    "collapsed": false,
    "ExecuteTime": {
     "end_time": "2024-01-20T10:31:52.119394Z",
     "start_time": "2024-01-20T10:31:49.438109Z"
    }
   },
   "id": "7efdbe41bcd3ff86"
  },
  {
   "cell_type": "code",
   "execution_count": 95,
   "outputs": [],
   "source": [
    "from sklearn.metrics import accuracy_score\n",
    "from sklearn.metrics import f1_score\n",
    "\n",
    "from sklearn.linear_model import SGDClassifier\n",
    "from sklearn.model_selection import train_test_split\n",
    "import cv2\n",
    "import numpy as np\n",
    "\n",
    "# X = np.array([cv2.cvtColor(cv2.imread(image_path), cv2.COLOR_BGR2GRAY).flatten() for image_path in image_df_features.Filepath.values if cv2.imread(image_path) is not None])\n",
    "y = np.array(image_df_features.Label)\n",
    "\n",
    "X_train, X_test, y_train, y_test = train_test_split(X, y, test_size=0.2, shuffle=True, random_state=42)\n",
    "\n",
    "model = SGDClassifier(random_state=42, max_iter=1000, tol=1e-3)\n",
    "model.fit(X_train, y_train)\n",
    "\n",
    "y_pred = model.predict(X_test)"
   ],
   "metadata": {
    "collapsed": false,
    "ExecuteTime": {
     "end_time": "2024-01-20T10:32:52.214680Z",
     "start_time": "2024-01-20T10:31:57.386933Z"
    }
   },
   "id": "b783314f5c689fa5"
  },
  {
   "cell_type": "code",
   "execution_count": 96,
   "outputs": [
    {
     "name": "stdout",
     "output_type": "stream",
     "text": [
      "Model accuracy: 0.6657243816254417\n",
      "F1 score: 0.6463918322844779\n"
     ]
    }
   ],
   "source": [
    "accuracy = accuracy_score(y_test, y_pred)\n",
    "print(f'Model accuracy: {accuracy}')\n",
    "\n",
    "f_1 = f1_score(y_test, y_pred, average='weighted')\n",
    "print(f'F1 score: {f_1}')"
   ],
   "metadata": {
    "collapsed": false,
    "ExecuteTime": {
     "end_time": "2024-01-20T10:40:16.374052Z",
     "start_time": "2024-01-20T10:40:16.360068Z"
    }
   },
   "id": "482bec0350103eb8"
  },
  {
   "cell_type": "code",
   "execution_count": 21,
   "outputs": [
    {
     "name": "stdout",
     "output_type": "stream",
     "text": [
      "Model accuracy: 0.6600706713780918\n",
      "F1 score: 0.6065467882299634\n"
     ]
    }
   ],
   "source": [
    "from sklearn.svm import SVC\n",
    "\n",
    "\n",
    "\n",
    "svc_model = SVC(random_state=42)\n",
    "svc_model.fit(X_train, y_train)\n",
    "\n",
    "y_pred_svc = svc_model.predict(X_test)\n",
    "\n",
    "accuracy_svc = accuracy_score(y_test, y_pred_svc)\n",
    "print(f'Model accuracy: {accuracy_svc}')\n",
    "\n",
    "f_1 = f1_score(y_test, y_pred_svc, average='weighted')\n",
    "print(f'F1 score: {f_1}')"
   ],
   "metadata": {
    "collapsed": false,
    "ExecuteTime": {
     "end_time": "2024-01-20T09:08:06.951471Z",
     "start_time": "2024-01-20T08:40:40.579244Z"
    }
   },
   "id": "9d7a0119bcffa493"
  },
  {
   "cell_type": "code",
   "execution_count": 22,
   "outputs": [
    {
     "name": "stdout",
     "output_type": "stream",
     "text": [
      "Model accuracy: 0.43886925795053006\n",
      "F1 score: 0.441195452980562\n"
     ]
    }
   ],
   "source": [
    "from sklearn.tree import DecisionTreeClassifier\n",
    "\n",
    "\n",
    "dt_model = DecisionTreeClassifier(random_state=42)\n",
    "dt_model.fit(X_train, y_train)\n",
    "\n",
    "y_pred_dt = dt_model.predict(X_test)\n",
    "\n",
    "accuracy_dt = accuracy_score(y_test, y_pred_dt)\n",
    "print(f'Model accuracy: {accuracy_dt}')\n",
    "\n",
    "f_1 = f1_score(y_test, y_pred_dt, average='weighted')\n",
    "print(f'F1 score: {f_1}')"
   ],
   "metadata": {
    "collapsed": false,
    "ExecuteTime": {
     "end_time": "2024-01-20T09:09:08.820216Z",
     "start_time": "2024-01-20T09:08:06.951526Z"
    }
   },
   "id": "db60e5fe6b0b2b33"
  }
 ],
 "metadata": {
  "kernelspec": {
   "display_name": "Python 3",
   "language": "python",
   "name": "python3"
  },
  "language_info": {
   "codemirror_mode": {
    "name": "ipython",
    "version": 2
   },
   "file_extension": ".py",
   "mimetype": "text/x-python",
   "name": "python",
   "nbconvert_exporter": "python",
   "pygments_lexer": "ipython2",
   "version": "2.7.6"
  }
 },
 "nbformat": 4,
 "nbformat_minor": 5
}
